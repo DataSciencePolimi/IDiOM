{
 "cells": [
  {
   "cell_type": "code",
   "execution_count": 1,
   "metadata": {},
   "outputs": [
    {
     "data": {
      "application/javascript": [
       "\n",
       "            setTimeout(function() {\n",
       "                var nbb_cell_id = 1;\n",
       "                var nbb_unformatted_code = \"%load_ext nb_black\";\n",
       "                var nbb_formatted_code = \"%load_ext nb_black\";\n",
       "                var nbb_cells = Jupyter.notebook.get_cells();\n",
       "                for (var i = 0; i < nbb_cells.length; ++i) {\n",
       "                    if (nbb_cells[i].input_prompt_number == nbb_cell_id) {\n",
       "                        if (nbb_cells[i].get_text() == nbb_unformatted_code) {\n",
       "                             nbb_cells[i].set_text(nbb_formatted_code);\n",
       "                        }\n",
       "                        break;\n",
       "                    }\n",
       "                }\n",
       "            }, 500);\n",
       "            "
      ],
      "text/plain": [
       "<IPython.core.display.Javascript object>"
      ]
     },
     "metadata": {},
     "output_type": "display_data"
    }
   ],
   "source": [
    "%load_ext nb_black"
   ]
  },
  {
   "cell_type": "code",
   "execution_count": 2,
   "metadata": {},
   "outputs": [
    {
     "data": {
      "application/javascript": [
       "\n",
       "            setTimeout(function() {\n",
       "                var nbb_cell_id = 2;\n",
       "                var nbb_unformatted_code = \"from pymongo import MongoClient\\nfrom datetime import datetime\\nfrom os import path\\nfrom sklearn.decomposition import PCA\\n\\nimport numpy as np\\nimport matplotlib.pyplot as plt\\nimport matplotlib.colors as mcolors\\nimport pickle5 as pickle\\nimport yaml\\nimport os\\nimport umap\";\n",
       "                var nbb_formatted_code = \"from pymongo import MongoClient\\nfrom datetime import datetime\\nfrom os import path\\nfrom sklearn.decomposition import PCA\\n\\nimport numpy as np\\nimport matplotlib.pyplot as plt\\nimport matplotlib.colors as mcolors\\nimport pickle5 as pickle\\nimport yaml\\nimport os\\nimport umap\";\n",
       "                var nbb_cells = Jupyter.notebook.get_cells();\n",
       "                for (var i = 0; i < nbb_cells.length; ++i) {\n",
       "                    if (nbb_cells[i].input_prompt_number == nbb_cell_id) {\n",
       "                        if (nbb_cells[i].get_text() == nbb_unformatted_code) {\n",
       "                             nbb_cells[i].set_text(nbb_formatted_code);\n",
       "                        }\n",
       "                        break;\n",
       "                    }\n",
       "                }\n",
       "            }, 500);\n",
       "            "
      ],
      "text/plain": [
       "<IPython.core.display.Javascript object>"
      ]
     },
     "metadata": {},
     "output_type": "display_data"
    }
   ],
   "source": [
    "from pymongo import MongoClient\n",
    "from datetime import datetime\n",
    "from os import path\n",
    "from sklearn.decomposition import PCA\n",
    "\n",
    "import numpy as np\n",
    "import matplotlib.pyplot as plt\n",
    "import matplotlib.colors as mcolors\n",
    "import pickle5 as pickle\n",
    "import yaml\n",
    "import os\n",
    "import umap"
   ]
  },
  {
   "cell_type": "code",
   "execution_count": 3,
   "metadata": {},
   "outputs": [
    {
     "data": {
      "application/javascript": [
       "\n",
       "            setTimeout(function() {\n",
       "                var nbb_cell_id = 3;\n",
       "                var nbb_unformatted_code = \"mongourl = \\\"mongodb://localhost:27017\\\"\\nclient = MongoClient(mongourl)\";\n",
       "                var nbb_formatted_code = \"mongourl = \\\"mongodb://localhost:27017\\\"\\nclient = MongoClient(mongourl)\";\n",
       "                var nbb_cells = Jupyter.notebook.get_cells();\n",
       "                for (var i = 0; i < nbb_cells.length; ++i) {\n",
       "                    if (nbb_cells[i].input_prompt_number == nbb_cell_id) {\n",
       "                        if (nbb_cells[i].get_text() == nbb_unformatted_code) {\n",
       "                             nbb_cells[i].set_text(nbb_formatted_code);\n",
       "                        }\n",
       "                        break;\n",
       "                    }\n",
       "                }\n",
       "            }, 500);\n",
       "            "
      ],
      "text/plain": [
       "<IPython.core.display.Javascript object>"
      ]
     },
     "metadata": {},
     "output_type": "display_data"
    }
   ],
   "source": [
    "mongourl = \"mongodb://localhost:27017\"\n",
    "client = MongoClient(mongourl)"
   ]
  },
  {
   "cell_type": "code",
   "execution_count": 4,
   "metadata": {},
   "outputs": [
    {
     "data": {
      "application/javascript": [
       "\n",
       "            setTimeout(function() {\n",
       "                var nbb_cell_id = 4;\n",
       "                var nbb_unformatted_code = \"START = datetime(2019, 12, 1, 0, 0)\\nEND = datetime(2020, 8, 1, 0, 0)\\n\\nn_dims = 50\\nbert_embedding_size = 768\\nnum_topics = 5\";\n",
       "                var nbb_formatted_code = \"START = datetime(2019, 12, 1, 0, 0)\\nEND = datetime(2020, 8, 1, 0, 0)\\n\\nn_dims = 50\\nbert_embedding_size = 768\\nnum_topics = 5\";\n",
       "                var nbb_cells = Jupyter.notebook.get_cells();\n",
       "                for (var i = 0; i < nbb_cells.length; ++i) {\n",
       "                    if (nbb_cells[i].input_prompt_number == nbb_cell_id) {\n",
       "                        if (nbb_cells[i].get_text() == nbb_unformatted_code) {\n",
       "                             nbb_cells[i].set_text(nbb_formatted_code);\n",
       "                        }\n",
       "                        break;\n",
       "                    }\n",
       "                }\n",
       "            }, 500);\n",
       "            "
      ],
      "text/plain": [
       "<IPython.core.display.Javascript object>"
      ]
     },
     "metadata": {},
     "output_type": "display_data"
    }
   ],
   "source": [
    "START = datetime(2019, 12, 1, 0, 0)\n",
    "END = datetime(2020, 8, 1, 0, 0)\n",
    "\n",
    "n_dims = 50\n",
    "bert_embedding_size = 768\n",
    "num_topics = 5"
   ]
  },
  {
   "cell_type": "code",
   "execution_count": 5,
   "metadata": {},
   "outputs": [
    {
     "data": {
      "application/javascript": [
       "\n",
       "            setTimeout(function() {\n",
       "                var nbb_cell_id = 5;\n",
       "                var nbb_unformatted_code = \"q = {\\\"bertEncoding\\\": {\\\"$exists\\\": True}}\";\n",
       "                var nbb_formatted_code = \"q = {\\\"bertEncoding\\\": {\\\"$exists\\\": True}}\";\n",
       "                var nbb_cells = Jupyter.notebook.get_cells();\n",
       "                for (var i = 0; i < nbb_cells.length; ++i) {\n",
       "                    if (nbb_cells[i].input_prompt_number == nbb_cell_id) {\n",
       "                        if (nbb_cells[i].get_text() == nbb_unformatted_code) {\n",
       "                             nbb_cells[i].set_text(nbb_formatted_code);\n",
       "                        }\n",
       "                        break;\n",
       "                    }\n",
       "                }\n",
       "            }, 500);\n",
       "            "
      ],
      "text/plain": [
       "<IPython.core.display.Javascript object>"
      ]
     },
     "metadata": {},
     "output_type": "display_data"
    }
   ],
   "source": [
    "q = {\"bertEncoding\": {\"$exists\": True}}"
   ]
  },
  {
   "cell_type": "code",
   "execution_count": 29,
   "metadata": {},
   "outputs": [
    {
     "data": {
      "application/javascript": [
       "\n",
       "            setTimeout(function() {\n",
       "                var nbb_cell_id = 29;\n",
       "                var nbb_unformatted_code = \"CHUNK_SIZE = 10000\\ncoll = client[\\\"news\\\"][\\\"article\\\"]\\ncursor = coll.find(q, batch_size=CHUNK_SIZE)\\n\\n\\ndef yield_rows(cursor, chunk_size):\\n    \\\"\\\"\\\"\\n    Generator to yield chunks from cursor\\n    :param cursor:\\n    :param chunk_size:\\n    :return:\\n    \\\"\\\"\\\"\\n    chunk = []\\n    for i, row in enumerate(cursor):\\n        if i % chunk_size == 0 and i > 0:\\n            yield chunk\\n            del chunk[:]\\n        chunk.append(row)\\n    yield chunk\";\n",
       "                var nbb_formatted_code = \"CHUNK_SIZE = 10000\\ncoll = client[\\\"news\\\"][\\\"article\\\"]\\ncursor = coll.find(q, batch_size=CHUNK_SIZE)\\n\\n\\ndef yield_rows(cursor, chunk_size):\\n    \\\"\\\"\\\"\\n    Generator to yield chunks from cursor\\n    :param cursor:\\n    :param chunk_size:\\n    :return:\\n    \\\"\\\"\\\"\\n    chunk = []\\n    for i, row in enumerate(cursor):\\n        if i % chunk_size == 0 and i > 0:\\n            yield chunk\\n            del chunk[:]\\n        chunk.append(row)\\n    yield chunk\";\n",
       "                var nbb_cells = Jupyter.notebook.get_cells();\n",
       "                for (var i = 0; i < nbb_cells.length; ++i) {\n",
       "                    if (nbb_cells[i].input_prompt_number == nbb_cell_id) {\n",
       "                        if (nbb_cells[i].get_text() == nbb_unformatted_code) {\n",
       "                             nbb_cells[i].set_text(nbb_formatted_code);\n",
       "                        }\n",
       "                        break;\n",
       "                    }\n",
       "                }\n",
       "            }, 500);\n",
       "            "
      ],
      "text/plain": [
       "<IPython.core.display.Javascript object>"
      ]
     },
     "metadata": {},
     "output_type": "display_data"
    }
   ],
   "source": [
    "CHUNK_SIZE = 10000\n",
    "coll = client[\"news\"][\"article\"]\n",
    "cursor = coll.find(q, batch_size=CHUNK_SIZE)\n",
    "\n",
    "\n",
    "def yield_rows(cursor, chunk_size):\n",
    "    \"\"\"\n",
    "    Generator to yield chunks from cursor\n",
    "    :param cursor:\n",
    "    :param chunk_size:\n",
    "    :return:\n",
    "    \"\"\"\n",
    "    chunk = []\n",
    "    for i, row in enumerate(cursor):\n",
    "        if i % chunk_size == 0 and i > 0:\n",
    "            yield chunk\n",
    "            del chunk[:]\n",
    "        chunk.append(row)\n",
    "    yield chunk"
   ]
  },
  {
   "cell_type": "code",
   "execution_count": 7,
   "metadata": {},
   "outputs": [
    {
     "data": {
      "application/javascript": [
       "\n",
       "            setTimeout(function() {\n",
       "                var nbb_cell_id = 7;\n",
       "                var nbb_unformatted_code = \"def reduce_dim(docs, n_dims):\\n    pca = PCA(n_components=n_dims, random_state=7)\\n    res_pca = pca.fit_transform(docs)\\n    print(\\\"Shape after PCA: \\\", res_pca.shape)\\n    reducer = umap.UMAP(n_neighbors=n_dims, min_dist=0.5)\\n    res_umap = reducer.fit_transform(docs)\\n    print(\\\"Shape after UMAP: \\\", res_umap.shape)\\n    return res_umap\";\n",
       "                var nbb_formatted_code = \"def reduce_dim(docs, n_dims):\\n    pca = PCA(n_components=n_dims, random_state=7)\\n    res_pca = pca.fit_transform(docs)\\n    print(\\\"Shape after PCA: \\\", res_pca.shape)\\n    reducer = umap.UMAP(n_neighbors=n_dims, min_dist=0.5)\\n    res_umap = reducer.fit_transform(docs)\\n    print(\\\"Shape after UMAP: \\\", res_umap.shape)\\n    return res_umap\";\n",
       "                var nbb_cells = Jupyter.notebook.get_cells();\n",
       "                for (var i = 0; i < nbb_cells.length; ++i) {\n",
       "                    if (nbb_cells[i].input_prompt_number == nbb_cell_id) {\n",
       "                        if (nbb_cells[i].get_text() == nbb_unformatted_code) {\n",
       "                             nbb_cells[i].set_text(nbb_formatted_code);\n",
       "                        }\n",
       "                        break;\n",
       "                    }\n",
       "                }\n",
       "            }, 500);\n",
       "            "
      ],
      "text/plain": [
       "<IPython.core.display.Javascript object>"
      ]
     },
     "metadata": {},
     "output_type": "display_data"
    }
   ],
   "source": [
    "def reduce_dim(docs, n_dims):\n",
    "    pca = PCA(n_components=n_dims, random_state=7)\n",
    "    res_pca = pca.fit_transform(docs)\n",
    "    print(\"Shape after PCA: \", res_pca.shape)\n",
    "    reducer = umap.UMAP(n_neighbors=n_dims, min_dist=0.5)\n",
    "    res_umap = reducer.fit_transform(docs)\n",
    "    print(\"Shape after UMAP: \", res_umap.shape)\n",
    "    return res_umap"
   ]
  },
  {
   "cell_type": "code",
   "execution_count": 63,
   "metadata": {},
   "outputs": [
    {
     "data": {
      "application/javascript": [
       "\n",
       "            setTimeout(function() {\n",
       "                var nbb_cell_id = 63;\n",
       "                var nbb_unformatted_code = \"def plot_dim_reduction(data, num_topics, topic_numbers, topic_tokens, file_name):\\n    color_map = []\\n    for i in range(num_topics):\\n        color_map.append(1 / (num_topics * 2) + (i / (num_topics)))\\n    # color_map = plt.cm.get_cmap(\\\"inferno\\\", num_topics)\\n    #print(color_map)\\n    colors = []\\n    classes = []\\n    for t in topic_numbers:\\n        colors.append(color_map[t])\\n    # print(colors)\\n    for i in range(num_topics):\\n        classes.append(topic_tokens[i])\\n    fig = plt.figure(figsize=(8, 8))\\n    fig.suptitle(file_name, fontsize=20)\\n    scatter = plt.scatter(data[:, 0], data[:, 1], s=100, c=colors, alpha=0.5)\\n    plt.legend(\\n        handles=scatter.legend_elements()[0],\\n        labels=classes,\\n        bbox_to_anchor=(1.05, 1),\\n        loc=\\\"upper left\\\",\\n        fontsize=\\\"small\\\",\\n    )\\n\\n    plt.show()\\n    # plt.savefig(\\\"{}/{}.pdf\\\".format(\\\"dim_red_fig\\\", file_name), dpi=300)\";\n",
       "                var nbb_formatted_code = \"def plot_dim_reduction(data, num_topics, topic_numbers, topic_tokens, file_name):\\n    color_map = []\\n    for i in range(num_topics):\\n        color_map.append(1 / (num_topics * 2) + (i / (num_topics)))\\n    # color_map = plt.cm.get_cmap(\\\"inferno\\\", num_topics)\\n    # print(color_map)\\n    colors = []\\n    classes = []\\n    for t in topic_numbers:\\n        colors.append(color_map[t])\\n    # print(colors)\\n    for i in range(num_topics):\\n        classes.append(topic_tokens[i])\\n    fig = plt.figure(figsize=(8, 8))\\n    fig.suptitle(file_name, fontsize=20)\\n    scatter = plt.scatter(data[:, 0], data[:, 1], s=100, c=colors, alpha=0.5)\\n    plt.legend(\\n        handles=scatter.legend_elements()[0],\\n        labels=classes,\\n        bbox_to_anchor=(1.05, 1),\\n        loc=\\\"upper left\\\",\\n        fontsize=\\\"small\\\",\\n    )\\n\\n    plt.show()\\n    # plt.savefig(\\\"{}/{}.pdf\\\".format(\\\"dim_red_fig\\\", file_name), dpi=300)\";\n",
       "                var nbb_cells = Jupyter.notebook.get_cells();\n",
       "                for (var i = 0; i < nbb_cells.length; ++i) {\n",
       "                    if (nbb_cells[i].input_prompt_number == nbb_cell_id) {\n",
       "                        if (nbb_cells[i].get_text() == nbb_unformatted_code) {\n",
       "                             nbb_cells[i].set_text(nbb_formatted_code);\n",
       "                        }\n",
       "                        break;\n",
       "                    }\n",
       "                }\n",
       "            }, 500);\n",
       "            "
      ],
      "text/plain": [
       "<IPython.core.display.Javascript object>"
      ]
     },
     "metadata": {},
     "output_type": "display_data"
    }
   ],
   "source": [
    "def plot_dim_reduction(data, num_topics, topic_numbers, topic_tokens, file_name):\n",
    "    color_map = []\n",
    "    for i in range(num_topics):\n",
    "        color_map.append(1 / (num_topics * 2) + (i / (num_topics)))\n",
    "    # color_map = plt.cm.get_cmap(\"inferno\", num_topics)\n",
    "    # print(color_map)\n",
    "    colors = []\n",
    "    classes = []\n",
    "    for t in topic_numbers:\n",
    "        colors.append(color_map[t])\n",
    "    # print(colors)\n",
    "    for i in range(num_topics):\n",
    "        classes.append(topic_tokens[i])\n",
    "    fig = plt.figure(figsize=(8, 8))\n",
    "    fig.suptitle(file_name, fontsize=20)\n",
    "    scatter = plt.scatter(data[:, 0], data[:, 1], s=100, c=colors, alpha=0.5)\n",
    "    plt.legend(\n",
    "        handles=scatter.legend_elements()[0],\n",
    "        labels=classes,\n",
    "        bbox_to_anchor=(1.05, 1),\n",
    "        loc=\"upper left\",\n",
    "        fontsize=\"small\",\n",
    "    )\n",
    "\n",
    "    plt.show()\n",
    "    # plt.savefig(\"{}/{}.pdf\".format(\"dim_red_fig\", file_name), dpi=300)"
   ]
  },
  {
   "cell_type": "code",
   "execution_count": 30,
   "metadata": {},
   "outputs": [
    {
     "data": {
      "application/javascript": [
       "\n",
       "            setTimeout(function() {\n",
       "                var nbb_cell_id = 30;\n",
       "                var nbb_unformatted_code = \"topic_tokens = {}\";\n",
       "                var nbb_formatted_code = \"topic_tokens = {}\";\n",
       "                var nbb_cells = Jupyter.notebook.get_cells();\n",
       "                for (var i = 0; i < nbb_cells.length; ++i) {\n",
       "                    if (nbb_cells[i].input_prompt_number == nbb_cell_id) {\n",
       "                        if (nbb_cells[i].get_text() == nbb_unformatted_code) {\n",
       "                             nbb_cells[i].set_text(nbb_formatted_code);\n",
       "                        }\n",
       "                        break;\n",
       "                    }\n",
       "                }\n",
       "            }, 500);\n",
       "            "
      ],
      "text/plain": [
       "<IPython.core.display.Javascript object>"
      ]
     },
     "metadata": {},
     "output_type": "display_data"
    }
   ],
   "source": [
    "topic_tokens = {}"
   ]
  },
  {
   "cell_type": "code",
   "execution_count": 31,
   "metadata": {},
   "outputs": [
    {
     "name": "stdout",
     "output_type": "stream",
     "text": [
      "CHUNK 0\n",
      "PROCESSED DOC IN CHUNK: 0\n",
      "PROCESSED DOC IN CHUNK: 2000\n",
      "PROCESSED DOC IN CHUNK: 4000\n",
      "PROCESSED DOC IN CHUNK: 6000\n",
      "PROCESSED DOC IN CHUNK: 8000\n",
      "CHUNK 1\n"
     ]
    },
    {
     "data": {
      "application/javascript": [
       "\n",
       "            setTimeout(function() {\n",
       "                var nbb_cell_id = 31;\n",
       "                var nbb_unformatted_code = \"chunks = yield_rows(cursor, CHUNK_SIZE)\\nembeddings = []\\ntopic_numbers = []\\nchunk_idx = 0\\nfor chunk in chunks:\\n    # do processing here\\n    print(\\\"CHUNK {}\\\".format(chunk_idx))\\n    if chunk_idx > 0:\\n        break\\n    doc_idx = 0\\n    for doc in chunk:\\n        if doc_idx % 2000 == 0:\\n            print(\\\"PROCESSED DOC IN CHUNK: {}\\\".format(doc_idx))\\n        if len(doc[\\\"bertEncoding\\\"]) > 0:\\n            embeddings = np.append(embeddings, np.array(doc[\\\"bertEncoding\\\"]))\\n\\n            for topic_ in doc[\\\"topicExtraction\\\"]:\\n                if int(topic_[\\\"topic_number\\\"]) not in topic_tokens:\\n                    topic_tokens[int(topic_[\\\"topic_number\\\"])] = [\\n                        elem[\\\"token\\\"] for elem in topic_[\\\"topic_tokens\\\"]\\n                    ]\\n            # topic_probs = [el[\\\"topic_prob\\\"] for el in doc[\\\"testTopicExtraction\\\"]]\\n            topic_probs = [el[\\\"topic_prob\\\"] for el in doc[\\\"topicExtraction\\\"]]\\n            topic_max_prob = np.argmax(topic_probs)\\n            # doc_topic_max_prob = doc[\\\"testTopicExtraction\\\"][topic_max_prob]\\n            doc_topic_max_prob = doc[\\\"topicExtraction\\\"][topic_max_prob]\\n            topic_numbers = np.append(topic_numbers, doc_topic_max_prob[\\\"topic_number\\\"])\\n        doc_idx += 1\\n    chunk_idx += 1\";\n",
       "                var nbb_formatted_code = \"chunks = yield_rows(cursor, CHUNK_SIZE)\\nembeddings = []\\ntopic_numbers = []\\nchunk_idx = 0\\nfor chunk in chunks:\\n    # do processing here\\n    print(\\\"CHUNK {}\\\".format(chunk_idx))\\n    if chunk_idx > 0:\\n        break\\n    doc_idx = 0\\n    for doc in chunk:\\n        if doc_idx % 2000 == 0:\\n            print(\\\"PROCESSED DOC IN CHUNK: {}\\\".format(doc_idx))\\n        if len(doc[\\\"bertEncoding\\\"]) > 0:\\n            embeddings = np.append(embeddings, np.array(doc[\\\"bertEncoding\\\"]))\\n\\n            for topic_ in doc[\\\"topicExtraction\\\"]:\\n                if int(topic_[\\\"topic_number\\\"]) not in topic_tokens:\\n                    topic_tokens[int(topic_[\\\"topic_number\\\"])] = [\\n                        elem[\\\"token\\\"] for elem in topic_[\\\"topic_tokens\\\"]\\n                    ]\\n            # topic_probs = [el[\\\"topic_prob\\\"] for el in doc[\\\"testTopicExtraction\\\"]]\\n            topic_probs = [el[\\\"topic_prob\\\"] for el in doc[\\\"topicExtraction\\\"]]\\n            topic_max_prob = np.argmax(topic_probs)\\n            # doc_topic_max_prob = doc[\\\"testTopicExtraction\\\"][topic_max_prob]\\n            doc_topic_max_prob = doc[\\\"topicExtraction\\\"][topic_max_prob]\\n            topic_numbers = np.append(topic_numbers, doc_topic_max_prob[\\\"topic_number\\\"])\\n        doc_idx += 1\\n    chunk_idx += 1\";\n",
       "                var nbb_cells = Jupyter.notebook.get_cells();\n",
       "                for (var i = 0; i < nbb_cells.length; ++i) {\n",
       "                    if (nbb_cells[i].input_prompt_number == nbb_cell_id) {\n",
       "                        if (nbb_cells[i].get_text() == nbb_unformatted_code) {\n",
       "                             nbb_cells[i].set_text(nbb_formatted_code);\n",
       "                        }\n",
       "                        break;\n",
       "                    }\n",
       "                }\n",
       "            }, 500);\n",
       "            "
      ],
      "text/plain": [
       "<IPython.core.display.Javascript object>"
      ]
     },
     "metadata": {},
     "output_type": "display_data"
    }
   ],
   "source": [
    "chunks = yield_rows(cursor, CHUNK_SIZE)\n",
    "embeddings = []\n",
    "topic_numbers = []\n",
    "chunk_idx = 0\n",
    "for chunk in chunks:\n",
    "    # do processing here\n",
    "    print(\"CHUNK {}\".format(chunk_idx))\n",
    "    if chunk_idx > 0:\n",
    "        break\n",
    "    doc_idx = 0\n",
    "    for doc in chunk:\n",
    "        if doc_idx % 2000 == 0:\n",
    "            print(\"PROCESSED DOC IN CHUNK: {}\".format(doc_idx))\n",
    "        if len(doc[\"bertEncoding\"]) > 0:\n",
    "            embeddings = np.append(embeddings, np.array(doc[\"bertEncoding\"]))\n",
    "\n",
    "            for topic_ in doc[\"topicExtraction\"]:\n",
    "                if int(topic_[\"topic_number\"]) not in topic_tokens:\n",
    "                    topic_tokens[int(topic_[\"topic_number\"])] = [\n",
    "                        elem[\"token\"] for elem in topic_[\"topic_tokens\"]\n",
    "                    ]\n",
    "            # topic_probs = [el[\"topic_prob\"] for el in doc[\"testTopicExtraction\"]]\n",
    "            topic_probs = [el[\"topic_prob\"] for el in doc[\"topicExtraction\"]]\n",
    "            topic_max_prob = np.argmax(topic_probs)\n",
    "            # doc_topic_max_prob = doc[\"testTopicExtraction\"][topic_max_prob]\n",
    "            doc_topic_max_prob = doc[\"topicExtraction\"][topic_max_prob]\n",
    "            topic_numbers = np.append(topic_numbers, doc_topic_max_prob[\"topic_number\"])\n",
    "        doc_idx += 1\n",
    "    chunk_idx += 1"
   ]
  },
  {
   "cell_type": "code",
   "execution_count": 32,
   "metadata": {},
   "outputs": [
    {
     "name": "stdout",
     "output_type": "stream",
     "text": [
      "Found some articles\n",
      "(9807, 768)\n",
      "Reducing dimensions\n",
      "Shape after PCA:  (9807, 50)\n",
      "Shape after UMAP:  (9807, 2)\n",
      "(9807, 2)\n"
     ]
    },
    {
     "data": {
      "application/javascript": [
       "\n",
       "            setTimeout(function() {\n",
       "                var nbb_cell_id = 32;\n",
       "                var nbb_unformatted_code = \"print(\\\"Found some articles\\\")\\ntopic_numbers = np.asarray(topic_numbers)\\ntopic_numbers = topic_numbers.astype(\\\"int32\\\")\\nembeddings = np.reshape(embeddings, (-1, bert_embedding_size))\\nprint(embeddings.shape)\\nprint(\\\"Reducing dimensions\\\")\\nresults = reduce_dim(embeddings, n_dims)\\nprint(results.shape)\";\n",
       "                var nbb_formatted_code = \"print(\\\"Found some articles\\\")\\ntopic_numbers = np.asarray(topic_numbers)\\ntopic_numbers = topic_numbers.astype(\\\"int32\\\")\\nembeddings = np.reshape(embeddings, (-1, bert_embedding_size))\\nprint(embeddings.shape)\\nprint(\\\"Reducing dimensions\\\")\\nresults = reduce_dim(embeddings, n_dims)\\nprint(results.shape)\";\n",
       "                var nbb_cells = Jupyter.notebook.get_cells();\n",
       "                for (var i = 0; i < nbb_cells.length; ++i) {\n",
       "                    if (nbb_cells[i].input_prompt_number == nbb_cell_id) {\n",
       "                        if (nbb_cells[i].get_text() == nbb_unformatted_code) {\n",
       "                             nbb_cells[i].set_text(nbb_formatted_code);\n",
       "                        }\n",
       "                        break;\n",
       "                    }\n",
       "                }\n",
       "            }, 500);\n",
       "            "
      ],
      "text/plain": [
       "<IPython.core.display.Javascript object>"
      ]
     },
     "metadata": {},
     "output_type": "display_data"
    }
   ],
   "source": [
    "print(\"Found some articles\")\n",
    "topic_numbers = np.asarray(topic_numbers)\n",
    "topic_numbers = topic_numbers.astype(\"int32\")\n",
    "embeddings = np.reshape(embeddings, (-1, bert_embedding_size))\n",
    "print(embeddings.shape)\n",
    "print(\"Reducing dimensions\")\n",
    "results = reduce_dim(embeddings, n_dims)\n",
    "print(results.shape)"
   ]
  },
  {
   "cell_type": "code",
   "execution_count": 65,
   "metadata": {},
   "outputs": [
    {
     "data": {
      "image/png": "[encoded data removed]",
      "text/plain": [
       "<Figure size 576x576 with 1 Axes>"
      ]
     },
     "metadata": {
      "needs_background": "light"
     },
     "output_type": "display_data"
    },
    {
     "data": {
      "application/javascript": [
       "\n",
       "            setTimeout(function() {\n",
       "                var nbb_cell_id = 65;\n",
       "                var nbb_unformatted_code = \"plot_dim_reduction(results[:500], num_topics, topic_numbers[:500], topic_tokens, \\\"test\\\")\";\n",
       "                var nbb_formatted_code = \"plot_dim_reduction(results[:500], num_topics, topic_numbers[:500], topic_tokens, \\\"test\\\")\";\n",
       "                var nbb_cells = Jupyter.notebook.get_cells();\n",
       "                for (var i = 0; i < nbb_cells.length; ++i) {\n",
       "                    if (nbb_cells[i].input_prompt_number == nbb_cell_id) {\n",
       "                        if (nbb_cells[i].get_text() == nbb_unformatted_code) {\n",
       "                             nbb_cells[i].set_text(nbb_formatted_code);\n",
       "                        }\n",
       "                        break;\n",
       "                    }\n",
       "                }\n",
       "            }, 500);\n",
       "            "
      ],
      "text/plain": [
       "<IPython.core.display.Javascript object>"
      ]
     },
     "metadata": {},
     "output_type": "display_data"
    }
   ],
   "source": [
    "plot_dim_reduction(results[:500], num_topics, topic_numbers[:500], topic_tokens, \"test\")"
   ]
  },
  {
   "cell_type": "code",
   "execution_count": null,
   "metadata": {},
   "outputs": [],
   "source": []
  }
 ],
 "metadata": {
  "kernelspec": {
   "display_name": "research",
   "language": "python",
   "name": "research"
  },
  "language_info": {
   "codemirror_mode": {
    "name": "ipython",
    "version": 3
   },
   "file_extension": ".py",
   "mimetype": "text/x-python",
   "name": "python",
   "nbconvert_exporter": "python",
   "pygments_lexer": "ipython3",
   "version": "3.8.5"
  }
 },
 "nbformat": 4,
 "nbformat_minor": 4
}
