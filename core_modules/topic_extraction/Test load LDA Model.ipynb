{
 "cells": [
  {
   "cell_type": "code",
   "execution_count": 1,
   "metadata": {},
   "outputs": [],
   "source": [
    "import sys\n",
    "sys.path.append(\"../\")\n",
    "import yaml\n",
    "import logging\n",
    "import requests\n",
    "from pprint import pprint\n",
    "import json\n",
    "import time\n",
    "import os\n",
    "from pymongo import MongoClient\n",
    "import dateparser\n",
    "import psutil\n",
    "from nlp_utils import NLPUtils\n",
    "from lda_module import LdaModule\n",
    "import pandas as pd\n",
    "from pprint import pprint"
   ]
  },
  {
   "cell_type": "code",
   "execution_count": 2,
   "metadata": {},
   "outputs": [],
   "source": [
    "lda_module = LdaModule(lang='en',trained=True)"
   ]
  },
  {
   "cell_type": "code",
   "execution_count": 3,
   "metadata": {},
   "outputs": [],
   "source": [
    "text = \"\"\"The Centers for Disease Control and Prevention (CDC) said the novel coronavirus, or COVID-19, is spread mainly from person-to-person by those in close contact, or through coughing and sneezing by someone who’s infected.\n",
    "\n",
    "Symptoms of the coronavirus can show up between two and 14 days of exposure, health officials say. Symptoms include fever, cough, and shortness of breath.\n",
    "\n",
    "For most people, COVID-19 causes only mild or moderate symptoms, such as fever and cough. But some severe cases can lead to death.\n",
    "\n",
    "Most people can recover from the virus at home using over-the-counter medications to treat their symptoms.\n",
    "\n",
    "Some people who have the virus don’t show any symptoms, but they can still spread it to others. The CDC estimates that up to 35% of all cases are asymptomatic.\"\"\""
   ]
  },
  {
   "cell_type": "code",
   "execution_count": 4,
   "metadata": {},
   "outputs": [],
   "source": [
    "nlp_utils = NLPUtils(lang='en')"
   ]
  },
  {
   "cell_type": "code",
   "execution_count": 5,
   "metadata": {},
   "outputs": [],
   "source": [
    "parsed_text = nlp_utils.parse_text(text)"
   ]
  },
  {
   "cell_type": "code",
   "execution_count": 6,
   "metadata": {},
   "outputs": [],
   "source": [
    "topics = lda_module.model.show_topics(formatted=False, num_topics=20, num_words=5)"
   ]
  },
  {
   "cell_type": "code",
   "execution_count": 7,
   "metadata": {},
   "outputs": [
    {
     "data": {
      "text/plain": [
       "[(0,\n",
       "  [('spread', 0.011918477),\n",
       "   ('airport', 0.011631478),\n",
       "   ('new_coronavirus', 0.009209555),\n",
       "   ('patient', 0.009034123),\n",
       "   ('official', 0.008796643)]),\n",
       " (1,\n",
       "  [('new', 0.0132563915),\n",
       "   ('city', 0.011033031),\n",
       "   ('infect', 0.008027595),\n",
       "   ('find', 0.0069969166),\n",
       "   ('traveler', 0.0067912703)]),\n",
       " (2,\n",
       "  [('Wuhan_Municipal_Health_Commission', 0.009482136),\n",
       "   ('death_new_type', 0.00768391),\n",
       "   ('people_critical_condition', 0.007521409),\n",
       "   ('total_41_suffer_pneumonia', 0.0073302193),\n",
       "   ('cause_preliminarily_determined_new', 0.0072804047)]),\n",
       " (3,\n",
       "  [('spread', 0.015246936),\n",
       "   ('disease', 0.011597013),\n",
       "   ('country', 0.008807385),\n",
       "   ('new', 0.008277978),\n",
       "   ('airport', 0.0077647427)]),\n",
       " (4,\n",
       "  [('new', 0.010447913),\n",
       "   ('city', 0.010402071),\n",
       "   ('spread', 0.009488106),\n",
       "   ('new_coronavirus', 0.007017712),\n",
       "   ('authority', 0.006671207)]),\n",
       " (5,\n",
       "  [('spread', 0.008978136),\n",
       "   ('disease', 0.008506834),\n",
       "   ('identify', 0.0070273457),\n",
       "   ('new', 0.0069914353),\n",
       "   ('World_Health_Organization', 0.005855136)]),\n",
       " (6,\n",
       "  [('China_National_Health_Commission', 0.01809588),\n",
       "   ('symptom', 0.010693914),\n",
       "   ('new_coronavirus', 0.010583165),\n",
       "   ('new', 0.010519367),\n",
       "   ('central_city_Wuhan', 0.0104345605)]),\n",
       " (7,\n",
       "  [('spread', 0.010571206),\n",
       "   ('patient', 0.008379816),\n",
       "   ('test', 0.007225074),\n",
       "   ('day', 0.0070469496),\n",
       "   ('infect', 0.0069716317)]),\n",
       " (8,\n",
       "  [('infection', 0.013470499),\n",
       "   ('spread', 0.0129579995),\n",
       "   ('disease', 0.006886123),\n",
       "   ('new', 0.006695964),\n",
       "   ('travel', 0.0065234634)]),\n",
       " (9,\n",
       "  [('spread', 0.01025736),\n",
       "   ('official', 0.008623115),\n",
       "   ('new', 0.0074355537),\n",
       "   ('SARS', 0.0070823994),\n",
       "   ('Tuesday', 0.0069078417)]),\n",
       " (10,\n",
       "  [('new', 0.012767284),\n",
       "   ('new_coronavirus', 0.012144409),\n",
       "   ('spread', 0.010361695),\n",
       "   ('SARS', 0.010159228),\n",
       "   ('city', 0.009157682)]),\n",
       " (11,\n",
       "  [('new_coronavirus', 0.0159801),\n",
       "   ('travel', 0.0077530756),\n",
       "   ('human_human_transmission', 0.0069689984),\n",
       "   ('travel_Lunar_New', 0.0066504623),\n",
       "   ('Thailand_Japan_identify', 0.0065234466)]),\n",
       " (12,\n",
       "  [('new', 0.009447029),\n",
       "   ('test', 0.007193104),\n",
       "   ('spread', 0.006554796),\n",
       "   ('patient', 0.0065354817),\n",
       "   ('week', 0.0064059366)]),\n",
       " (13,\n",
       "  [('March', 0.01553394),\n",
       "   ('postpone', 0.011714494),\n",
       "   ('cancel', 0.008799448),\n",
       "   ('close', 0.006996607),\n",
       "   ('new', 0.0056257327)]),\n",
       " (14,\n",
       "  [('new_coronavirus', 0.009916253),\n",
       "   ('Beijing', 0.008785232),\n",
       "   ('accord', 0.008764322),\n",
       "   ('concern', 0.008564801),\n",
       "   ('understand_health_official_enemy', 0.00851993)]),\n",
       " (15,\n",
       "  [('new', 0.010423159),\n",
       "   ('spread', 0.010064991),\n",
       "   ('travel', 0.009329155),\n",
       "   ('official', 0.008044628),\n",
       "   ('country', 0.007861818)]),\n",
       " (16,\n",
       "  [('spread', 0.011350313),\n",
       "   ('new', 0.009508395),\n",
       "   ('travel', 0.009026081),\n",
       "   ('infection', 0.006900203),\n",
       "   ('patient', 0.0054635946)]),\n",
       " (17,\n",
       "  [('tell', 0.0056559695),\n",
       "   ('covid-19_case', 0.0050546527),\n",
       "   ('problem', 0.0044932775),\n",
       "   ('public_health_official', 0.00448454),\n",
       "   ('detail', 0.0044803307)]),\n",
       " (18,\n",
       "  [('travel', 0.009961029),\n",
       "   ('new', 0.009395931),\n",
       "   ('know', 0.008163111),\n",
       "   ('country', 0.007936068),\n",
       "   ('spread', 0.0071191764)]),\n",
       " (19,\n",
       "  [('new_coronavirus', 0.014094641),\n",
       "   ('disease', 0.009997081),\n",
       "   ('travel', 0.007914509),\n",
       "   ('patient', 0.0076261563),\n",
       "   ('Lunar_New_Year_holiday', 0.007148928)])]"
      ]
     },
     "execution_count": 7,
     "metadata": {},
     "output_type": "execute_result"
    }
   ],
   "source": [
    "topics"
   ]
  },
  {
   "cell_type": "code",
   "execution_count": 8,
   "metadata": {},
   "outputs": [
    {
     "data": {
      "text/plain": [
       "[('spread', 0.011918477),\n",
       " ('airport', 0.011631478),\n",
       " ('new_coronavirus', 0.009209555),\n",
       " ('patient', 0.009034123),\n",
       " ('official', 0.008796643)]"
      ]
     },
     "execution_count": 8,
     "metadata": {},
     "output_type": "execute_result"
    }
   ],
   "source": [
    "topics[lda_module.model[lda_module.dictionary.doc2bow(parsed_text)][0][0]][1]"
   ]
  },
  {
   "cell_type": "code",
   "execution_count": 9,
   "metadata": {},
   "outputs": [],
   "source": [
    "document_topic_info = {}\n",
    "for el in lda_module.model[lda_module.dictionary.doc2bow(parsed_text)]:\n",
    "    document_topic_info[el[0]] = [round(el[1], 2), topics[el[0]][1]]"
   ]
  },
  {
   "cell_type": "code",
   "execution_count": 10,
   "metadata": {},
   "outputs": [
    {
     "data": {
      "text/plain": [
       "{0: [0.16,\n",
       "  [('spread', 0.011918477),\n",
       "   ('airport', 0.011631478),\n",
       "   ('new_coronavirus', 0.009209555),\n",
       "   ('patient', 0.009034123),\n",
       "   ('official', 0.008796643)]],\n",
       " 3: [0.37,\n",
       "  [('spread', 0.015246936),\n",
       "   ('disease', 0.011597013),\n",
       "   ('country', 0.008807385),\n",
       "   ('new', 0.008277978),\n",
       "   ('airport', 0.0077647427)]],\n",
       " 12: [0.38,\n",
       "  [('new', 0.009447029),\n",
       "   ('test', 0.007193104),\n",
       "   ('spread', 0.006554796),\n",
       "   ('patient', 0.0065354817),\n",
       "   ('week', 0.0064059366)]],\n",
       " 15: [0.04,\n",
       "  [('new', 0.010423159),\n",
       "   ('spread', 0.010064991),\n",
       "   ('travel', 0.009329155),\n",
       "   ('official', 0.008044628),\n",
       "   ('country', 0.007861818)]],\n",
       " 18: [0.04,\n",
       "  [('travel', 0.009961029),\n",
       "   ('new', 0.009395931),\n",
       "   ('know', 0.008163111),\n",
       "   ('country', 0.007936068),\n",
       "   ('spread', 0.0071191764)]]}"
      ]
     },
     "execution_count": 10,
     "metadata": {},
     "output_type": "execute_result"
    }
   ],
   "source": [
    "document_topic_info"
   ]
  },
  {
   "cell_type": "code",
   "execution_count": null,
   "metadata": {},
   "outputs": [],
   "source": [
    "document_info = pd.DataFrame([(el[0], round(el[1], 2), topics[el[0]][1])\n",
    "                                      for el in lda_module.model[lda_module.dictionary.doc2bow(parsed_text)]],\n",
    "                                     columns=['topic #', 'weight', 'words in topic'])"
   ]
  },
  {
   "cell_type": "code",
   "execution_count": null,
   "metadata": {},
   "outputs": [],
   "source": [
    "document_info"
   ]
  },
  {
   "cell_type": "code",
   "execution_count": null,
   "metadata": {},
   "outputs": [],
   "source": [
    "import spacy\n",
    "sp = spacy.load('en_core_web_md')\n",
    "all_stopwords = sp.Defaults.stop_words\n",
    "def remove_mystopwords(sentence):\n",
    "    tokens = sentence.split(\" \")\n",
    "    tokens_filtered= [word for word in tokens if not word in all_stopwords]\n",
    "    return (\" \").join(tokens_filtered)"
   ]
  },
  {
   "cell_type": "code",
   "execution_count": null,
   "metadata": {},
   "outputs": [],
   "source": [
    "from gensim.parsing.preprocessing import remove_stopwords\n",
    "\n",
    "text = \"\"\"The nationwide protests over the killing of George Floyd will test two competing notions of how voters respond to crises that provoke both anger and grief.\n",
    "\n",
    "Could the demonstrations that have devolved into mayhem, looting and assault lead to victory for President Trump? Will they empower Republicans in the way that Richard Nixon used his “silent majority” and Ronald Reagan invoked the idea that “the jungle is always there, waiting to take us over” to propel themselves politically in the wake of the riots and rebellion in Watts, Newark and Detroit in the 1960s?\n",
    "\n",
    "Or could Trump’s authoritarian reaction, both rhetorically (“You have to dominate,” “I am your president of law and order”) and actual (ordering military units and equipment to the nation’s capital) enrage and energize the knowledge class, white liberals and the young to more tightly ally with African-Americans, Hispanics and other minorities to produce a Democratic surge?\n",
    "\n",
    "In Minnesota, where the protests first began, there are Democrats who worry that voters will turn to the right.\"\"\"\n",
    "filtered_sentence = remove_mystopwords(text)\n",
    "\n",
    "print(filtered_sentence)"
   ]
  }
 ],
 "metadata": {
  "kernelspec": {
   "display_name": "ricerca",
   "language": "python",
   "name": "ricerca"
  },
  "language_info": {
   "codemirror_mode": {
    "name": "ipython",
    "version": 3
   },
   "file_extension": ".py",
   "mimetype": "text/x-python",
   "name": "python",
   "nbconvert_exporter": "python",
   "pygments_lexer": "ipython3",
   "version": "3.7.6"
  }
 },
 "nbformat": 4,
 "nbformat_minor": 4
}
