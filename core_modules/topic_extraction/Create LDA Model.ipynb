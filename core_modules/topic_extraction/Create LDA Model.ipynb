{
 "cells": [
  {
   "cell_type": "code",
   "execution_count": null,
   "metadata": {},
   "outputs": [],
   "source": [
    "#%load_ext nb_black"
   ]
  },
  {
   "cell_type": "code",
   "execution_count": null,
   "metadata": {},
   "outputs": [],
   "source": [
    "import sys\n",
    "import yaml\n",
    "import logging\n",
    "import requests\n",
    "from pprint import pprint\n",
    "import json\n",
    "import time\n",
    "import os\n",
    "from pymongo import MongoClient\n",
    "import dateparser\n",
    "import psutil\n",
    "from nlp_utils import NLPUtils\n",
    "from lda_module import LdaModule"
   ]
  },
  {
   "cell_type": "code",
   "execution_count": null,
   "metadata": {},
   "outputs": [],
   "source": [
    "mongourl = \"mongodb://localhost:27017/\"\n",
    "MONGO_CLIENT = MongoClient(mongourl)\n",
    "LANG_CODE = 'it'"
   ]
  },
  {
   "cell_type": "code",
   "execution_count": null,
   "metadata": {},
   "outputs": [],
   "source": [
    "#collection = MONGO_CLIENT[\"news\"][\"article\" + \"_\" + LANG_CODE]\n",
    "collection = MONGO_CLIENT[\"news\"][\"article\"]\n",
    "not_processed_docs = collection.find()\n",
    "# for doc in not_processed_docs:\n",
    "#    print(doc)\n",
    "#    time.sleep(10)"
   ]
  },
  {
   "cell_type": "code",
   "execution_count": null,
   "metadata": {},
   "outputs": [],
   "source": [
    "training_set = []\n",
    "i = 0\n",
    "for document in not_processed_docs:\n",
    "    if i % 10000 == 0:\n",
    "        print(i)\n",
    "        print(psutil.virtual_memory())\n",
    "    training_set.append(document['text'])\n",
    "    i += 1"
   ]
  },
  {
   "cell_type": "code",
   "execution_count": null,
   "metadata": {},
   "outputs": [],
   "source": [
    "# Load custom stop words from file\n",
    "with open('custom_stop_words.json', 'r') as sw:\n",
    "    custom_stop_words = json.load(sw)\n",
    "custom_stop_words = custom_stop_words['s_words']"
   ]
  },
  {
   "cell_type": "code",
   "execution_count": null,
   "metadata": {},
   "outputs": [],
   "source": [
    "nlp_utils = NLPUtils(lang=LANG_CODE)"
   ]
  },
  {
   "cell_type": "code",
   "execution_count": null,
   "metadata": {},
   "outputs": [],
   "source": [
    "# Some preparation before running LDA\n",
    "doc_collection = []\n",
    "print(\"Parsing articles...\")\n",
    "i = 0\n",
    "for doc in training_set[:1000]:\n",
    "    if i % 100 == 0: print(i)\n",
    "    tokens = nlp_utils.parse_text(doc)\n",
    "    doc_collection.append(tokens)\n",
    "    i += 1"
   ]
  },
  {
   "cell_type": "code",
   "execution_count": null,
   "metadata": {},
   "outputs": [],
   "source": [
    "print(\"Completed parsing {} articles\".format(len(doc_collection)))\n",
    "\n",
    "num_docs = len(doc_collection)\n",
    "num_topics = 20\n",
    "lda = LdaModule(lang = LANG_CODE, num_docs = num_docs, doc_collection = doc_collection, num_topics = num_topics, trained = False)\n",
    "lda.runLDA()\n",
    "\n",
    "docs_topics_dict = lda.get_docs_topics_dict()"
   ]
  },
  {
   "cell_type": "code",
   "execution_count": null,
   "metadata": {},
   "outputs": [],
   "source": [
    "# == Saving model checkpoint ==\n",
    "lda.save_LDA_model()"
   ]
  },
  {
   "cell_type": "code",
   "execution_count": null,
   "metadata": {},
   "outputs": [],
   "source": []
  }
 ],
 "metadata": {
  "kernelspec": {
   "display_name": "ricerca",
   "language": "python",
   "name": "ricerca"
  },
  "language_info": {
   "codemirror_mode": {
    "name": "ipython",
    "version": 3
   },
   "file_extension": ".py",
   "mimetype": "text/x-python",
   "name": "python",
   "nbconvert_exporter": "python",
   "pygments_lexer": "ipython3",
   "version": "3.7.6"
  }
 },
 "nbformat": 4,
 "nbformat_minor": 4
}
